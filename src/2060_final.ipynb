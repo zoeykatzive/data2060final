{
  "nbformat": 4,
  "nbformat_minor": 0,
  "metadata": {
    "colab": {
      "provenance": []
    },
    "kernelspec": {
      "name": "python3",
      "display_name": "Python 3"
    },
    "language_info": {
      "name": "python"
    }
  },
  "cells": [
    {
      "cell_type": "markdown",
      "source": [
        "# **Gaussian Naive Bayes for Classification**\n",
        "GitHub repo:"
      ],
      "metadata": {
        "id": "RLXUcD90QHY2"
      }
    },
    {
      "cell_type": "markdown",
      "source": [
        "\n",
        "\n",
        "**Overview**\n",
        "\n",
        "Gaussian Naive Bayes is a probabilistic classification algorithm from the Naive Bayes family, tailored for continuous data by assuming a Gaussian (or normal) distribution for each feature given the label. It is built upon Bayes' theorem, which describes the conditional probability of a label given certain observed features. In Gaussian Naive Bayes, each feature is modeled as an independent Gaussian distribution for each class. The model estimates the probability density function of the features conditioned on the class labels, using the mean and variance of each feature within each class. This probabilistic approach is called \"naive\" because it assumes that all features are conditionally independent given the class, which often doesn’t hold in real data but simplifies computation (Kashishdafe, 2024; Martins, 2023).\n",
        "\n",
        "The core formula of Gaussian Naive Bayes relies on Bayes’ theorem:\n",
        "\n",
        "$$P(Y|X) = \\frac{P(X|Y)⋅P(Y)}{P(X)}$$\n",
        "\n",
        "where:\n",
        "\n",
        "- $P(Y|X)$ is the posterior probability of the class $Y$ given the feature set $X$\n",
        "- $P(X|Y)$ is the likelihood of observing features $X$ given class $Y$\n",
        "- $P(Y)$ is the prior probability of class $Y$\n",
        "- $P(X)$ is the prior probability of the features\n",
        "\n",
        "Given a new data point, Gaussian Naive Bayes calculates the likelihood of that data point for each class and then assigns it to the class with the highest posterior probability (GeeksforGeeks, 2023a). Gaussian Naive Bayes is effective for classification tasks with continuous, high-dimensional data, where the Gaussian assumption for features approximately holds. Due to its probabilistic nature, it is also useful when assessing uncertainty in predictions, as it outputs probabilities for each class rather than a single deterministic label (Kashishdafe, 2024).\n",
        "\n",
        "\n",
        "*Advantages*\n",
        "\n",
        "- Gaussian Naive Bayes is computationally efficient, both in terms of training and inference. It requires calculating only the mean and variance for each feature in each class, making it very fast to train, especially on high-dimensional datasets (Kashishdafe, 2024; GeeksforGeeks, 2023a).\n",
        "- This simplicity makes Gaussian Naive Bayes a good initial baseline classifier when quickly exploring new data or when computational resources are limited (Martins, 2023).\n",
        "- Unlike more complex algorithms that can struggle as the feature space grows, Gaussian Naive Bayes often handles high-dimensional data well. Because it does not require storing or processing individual data points once parameters (means and variances) are learned, it can perform efficiently even in large feature spaces (Kashishdafe, 2024).\n",
        "- Gaussian Naive Bayes provides probabilistic outputs, allowing for more nuanced interpretations of predictions. It not only gives a predicted class but also offers the probability associated with each class, which can be useful in applications that require confidence estimation or risk assessment (Kashishdafe, 2024).\n",
        "- Gaussian Naive Bayes extends Naive Bayes methods to continuous data, making it applicable in fields where features are real-valued, such as sensor readings in Internet of Things (IoT), medical measurements, and various other scientific data types (GeeksforGeeks, 2023a).\n",
        "- Because Gaussian Naive Bayes assumes feature independence, irrelevant features that don’t correlate with the target class generally do not significantly impact the model's performance. This makes Gaussian Naive Bayes robust in noisy environments where not all features are informative (Martins, 2023).\n",
        "\n",
        "\n",
        "*Disadvantages*\n",
        "\n",
        "- The core limitation of Gaussian Naive Bayes is its naive assumption of feature independence, which is rarely true in real-world datasets. When features are strongly correlated, this assumption can lead to suboptimal performance, as Gaussian Naive Bayes does not capture dependencies between features (Kashishdafe, 2024; Martins, 2023).\n",
        "- Gaussian Naive Bayes assumes that features within each class are normally distributed, which may not always be the case. When the actual feature distributions deviate significantly from Gaussian, Gaussian Naive Bayes’s performance can degrade. For example, in skewed or multimodal data, Gaussian Naive Bayes might provide poor predictions (GeeksforGeeks, 2023a).\n",
        "- Because it relies on simple Gaussian distributions, Gaussian Naive Bayes often performs poorly in cases where decision boundaries between classes are highly nonlinear or require more complex interactions among features. It might also struggle with small datasets, where the estimated means and variances are not stable (Martins, 2023).\n",
        "- Gaussian Naive Bayes can be sensitive to outliers, as they can skew the mean and variance calculations, leading to inaccurate estimates for the likelihoods of classes. This can result in incorrect classifications if the data includes extreme values (Kashishdafe, 2024).\n",
        "- In scenarios with imbalanced class distributions, Gaussian Naive Bayes may disproportionately favor the majority class because the prior probability $P(Y)$ influences the posterior probability. Without additional adjustments, Gaussian Naive Bayes might struggle to accurately classify minority classes in imbalanced datasets (GeeksforGeeks, 2023; Martins, 2023).\n"
      ],
      "metadata": {
        "id": "Q8L-HkhCQS8P"
      }
    },
    {
      "cell_type": "markdown",
      "source": [
        "**Representation**\n",
        "\n",
        "The representation consists of the domain, range, sampling method, and function.\n",
        "\n",
        "First, each feature is assumed to be Normally distributed (and consequently continuous) and independent given the class label. Hence the domain comes from $\\mathbb{R}^d$.\n",
        "\n",
        "Second, the range is a class label and the output is the class that has the maximum probability for an observation. Hence, the range comes from the discrete set of class labels (0, 1, . . . , K) where K is the number of classes.\n",
        "\n",
        "Third, the sample is taken from the features (which are assumed to follow a Normal distribution conditioned on the label) paired with the label outcome which we assume follows some unknown distribution.\n",
        "\n",
        "Fourth, the function from an observation to the output is as follows: The prior probability of each label is calculated, which is just the number of times that class occured over the number of rows in the dataset. For each feature, subset it based on the class and calculate the mean and standard deviation. This will result in K*D mean and variance pairs where K is the number of classes and D is the number of features. To make a prediction on an observation, the observation's value for each attribute and each of those attribute's mean-variance pairs are plugged into the Gaussian probability function (GeeksforGeeks, 2023a).\n",
        "\n",
        "The Gaussian probability density function is as follows for class k and attribute d:\n",
        "\n",
        "$$\n",
        "f(x) = \\frac{1}{\\sqrt{2 \\pi \\sigma^2}} \\exp \\left( -\\frac{(x - \\mu)^2}{2 \\sigma^2} \\right)\n",
        "$$\n",
        "\n",
        "where\n",
        "\n",
        "- $x$ is the observation's value for attribute d,\n",
        "- $\\mu$ is the mean of attribute d given class k,\n",
        "- $\\sigma^2$ is the variance of attribute d given class k\n",
        "\n",
        "The probabilities for each attribute conditioned on the same label are all multiplied together and then multiplied by the prior probability for that label, so K products are left. This stems from Bayes' Theorem which states the following:\n",
        "\n",
        "$$\n",
        "P(Y|X) = \\frac{P(X|Y) \\cdot P(Y)}{P(X)}\n",
        "$$\n",
        "\n",
        "where\n",
        "\n",
        "- $P(Y|X)$ is the conditional probability of event $Y$ given that $X$ is true\n",
        "- $P(X|Y)$ is the conditional probability of event $X$ given that $Y$ is true\n",
        "- $P(Y)$ is the probability of event $Y$ occurring\n",
        "- $P(X)$ is the probability of event $X$ occurring\n",
        "\n",
        "The theorem in the context of modeling can be rewritten as\n",
        "\n",
        "$$\n",
        "P(Y | x_1, x_2, \\ldots, x_D) \\propto P(Y) \\prod_{i=1}^D P(x_i | Y)\n",
        "$$\n",
        "\n",
        "This holds due to the assumption of conditional independence between the features and the denominator is omitted since that is constant across all the probabilities computed for an observation and thus would not make a difference.\n",
        "\n",
        "However, as probabilities can become very small, converting to log space can be beneficial- here, the log probabilities for each attribute conditioned on the same label are added together and then added to the log prior probability for that label.\n",
        "\n",
        "In log space, the right-hand side of the above formula is expressed as the following by the log product rule:\n",
        "\n",
        "$$\n",
        "\\log P(Y) + \\sum_{i=1}^D \\log P(x_i | Y)\n",
        "$$\n",
        "\n",
        "To convert this back to a probability, we exponentiate:\n",
        "\n",
        "$$\n",
        "P(Y | x_1, x_2, \\ldots, x_D) \\propto \\exp\\left(\\log P(Y) + \\sum_{i=1}^D \\log P(x_i | Y)\\right)\n",
        "$$\n",
        "\n",
        "\n",
        "The label which has the highest probability amongst the K products is then the final prediction."
      ],
      "metadata": {
        "id": "y8c-0c6KQh7F"
      }
    },
    {
      "cell_type": "markdown",
      "source": [
        "**Loss**\n",
        "\n",
        "We can define the log loss of a Gaussian (multiclass) Naive Bayes algorithm over all N data points:\n",
        "$$l(\\theta) = -\\frac{1}{N} \\ \\sum_{i=1}^N \\log P(y_i |x_i, \\theta)$$   \n",
        "Where $\\theta$ denotes the parameters of the function for Gaussian likelihood such as the mean and variance, and $P$ represents that very Gaussian probability.\n",
        "\n"
      ],
      "metadata": {
        "id": "bJcSAZUXP7hn"
      }
    },
    {
      "cell_type": "markdown",
      "source": [
        "**Optimizer**   \n",
        "The optimizer for Gaussian Naive Bayes follows the theorem of empirical risk minimization where it tries to find the minimum of the loss. In this case, it means $$\\arg\\min\\limits_{\\theta} l(\\theta)$$\n",
        "\n",
        "Since Naive Bayes is a generative algorithm, the loss and optimizer exist in relation to distributions of the continuous features."
      ],
      "metadata": {
        "id": "sLqLEdg3h9Su"
      }
    },
    {
      "cell_type": "markdown",
      "source": [
        "# **MODEL**"
      ],
      "metadata": {
        "id": "cs1jEmjXP84t"
      }
    },
    {
      "cell_type": "code",
      "source": [
        "import numpy as np\n",
        "import pandas as pd\n",
        "\n",
        "class GNB(object):\n",
        "    \"\"\" Gaussian Naive Bayes model\n",
        "\n",
        "    @attrs:\n",
        "        n_classes:    the number of classes\n",
        "        means:    a 2D (n_classes x n_attributes) NumPy array of the means of each feature conditioned on each label\n",
        "        stds:     a 2D (n_classes x n_attributes) NumPy array of the standard deviations of each feature conditioned on each label\n",
        "        label_priors: a 1D NumPy array of the priors distribution\n",
        "    \"\"\"\n",
        "\n",
        "    def __init__(self, n_classes):\n",
        "        \"\"\" Initializes a GNB model with n_classes. \"\"\"\n",
        "        self.n_classes = n_classes\n",
        "        self.means = None\n",
        "        self.stds = None\n",
        "        self.label_priors = None\n",
        "\n",
        "    def train(self, X, y):\n",
        "        \"\"\" Trains the model\n",
        "        @params:\n",
        "            X: a 2D (n_examples x n_attributes) numpy array with numeric features\n",
        "            y: a 1D (n_examples) numpy array\n",
        "        @return:\n",
        "            a tuple consisting of:\n",
        "                1) a 1D numpy array of the priors distribution\n",
        "                2) a 2D numpy array of the means of each feature conditioned on the label\n",
        "                3) a 2D numpy array of the standard deviations of each feature conditioned on the label\n",
        "        \"\"\"\n",
        "        #takes care of edge cases\n",
        "        if not isinstance(X, np.ndarray) or not isinstance(y, np.ndarray):\n",
        "          raise TypeError(\"X and y must be numpy arrays.\")\n",
        "        if X.ndim != 2:\n",
        "            raise ValueError(\"X must be a 2D numpy array.\")\n",
        "        if y.ndim != 1:\n",
        "            raise ValueError(\"y must be a 1D numpy array.\")\n",
        "        if X.size == 0 or y.size == 0:\n",
        "            raise ValueError(\"X and y must not be empty.\")\n",
        "        if any(np.sum(y == label) <= 1 for label in np.unique(y)):\n",
        "            raise ValueError(\"Each unique label in y must occur more than once so it has non-0 standard deviation.\")\n",
        "        if X.shape[0] != y.shape[0]:\n",
        "            raise ValueError(\"Number of examples in X and y must match.\")\n",
        "\n",
        "        if self.n_classes != len(np.unique(y)):\n",
        "            raise ValueError(\"The model's number of classes does not match the number of class labels\")\n",
        "\n",
        "        self.label_priors = np.zeros(self.n_classes)\n",
        "        for i in range(self.n_classes):\n",
        "            self.label_priors[i] = np.sum(y == i) / len(y)\n",
        "\n",
        "        self.means = np.zeros((self.n_classes,X.shape[1]))\n",
        "        self.stds = np.zeros((self.n_classes,X.shape[1]))\n",
        "        for j in range(self.n_classes):\n",
        "            for i in range(X.shape[1]):\n",
        "                ind = np.where(y==j)[0]\n",
        "                self.means[j,i] = np.mean(X[ind,i])\n",
        "                self.stds[j,i] = np.std(X[ind,i])\n",
        "\n",
        "        return self.label_priors, self.means, self.stds\n",
        "\n",
        "    def predict(self, inputs):\n",
        "        \"\"\" Outputs a predicted label for each input in inputs.\n",
        "\n",
        "        @params:\n",
        "            inputs: a 2D NumPy array containing inputs\n",
        "        @return:\n",
        "            a 1D numpy array of predictions\n",
        "        \"\"\"\n",
        "        log_priors = np.log(self.label_priors)\n",
        "        predictions = []\n",
        "\n",
        "        for i in range(inputs.shape[0]):\n",
        "            prob = log_priors.copy()\n",
        "            for j in range(self.n_classes):\n",
        "                prob[j] += np.sum(\n",
        "            -0.5 * np.log(2 * np.pi * self.stds[j, :] ** 2) - ((inputs[i, :] - self.means[j, :]) ** 2) / (2 * self.stds[j, :] ** 2))\n",
        "                prob[j] = np.exp(prob[j])\n",
        "            predictions.append(np.argmax(prob))\n",
        "\n",
        "        return np.array(predictions)\n",
        "\n",
        "    def class_report(self, X, y):\n",
        "        \"\"\" Outputs the classification report of the trained model on a given dataset.\n",
        "\n",
        "        @params:\n",
        "            X: a 2D numpy array of examples\n",
        "            y: a 1D numpy array of labels\n",
        "        @return:\n",
        "            a dictionary of precision, recall, and f1 for each class and the weighted average of these scores for each class, the sample size of each class, and the total sample count\n",
        "        \"\"\"\n",
        "\n",
        "        predictions = self.predict(X)\n",
        "        report = {}\n",
        "        total_precision, total_recall, total_f1 = 0, 0, 0\n",
        "\n",
        "        for i in range(self.n_classes):\n",
        "            TP = np.sum((y == i) & (predictions == i))\n",
        "            FP = np.sum((y != i) & (predictions == i))\n",
        "            FN = np.sum((y == i) & (predictions != i))\n",
        "            TN = np.sum((y != i) & (predictions != i))\n",
        "\n",
        "            precision = TP / (TP + FP) if TP + FP > 0 else 0\n",
        "            recall = TP / (TP + FN) if TP + FN > 0 else 0\n",
        "            f1_score = (2 * precision * recall) / (precision + recall) if precision + recall > 0 else 0\n",
        "            support = np.sum(y == i)\n",
        "\n",
        "            report[i] = {\n",
        "                'precision': precision,\n",
        "                'recall': recall,\n",
        "                'f1-score': f1_score,\n",
        "                'support': support,\n",
        "            }\n",
        "            total_precision += precision * support\n",
        "            total_recall += recall * support\n",
        "            total_f1 += f1_score * support\n",
        "\n",
        "        report['avg / total'] = {\n",
        "            'precision': total_precision/len(y),\n",
        "            'recall': total_recall/len(y),\n",
        "            'f1-score': total_f1/len(y),\n",
        "            'support': len(y),\n",
        "        }\n",
        "\n",
        "        return report\n",
        "    def confusion_matrix(self, y_true, y_pred, n_classes):\n",
        "        \"\"\"\n",
        "        Generates confusion matrix\n",
        "\n",
        "        @params:\n",
        "            y_true: a 1D array of true labels\n",
        "            y_pred: a 1D array of predicted labels\n",
        "            n_classes: the number of unique classes\n",
        "\n",
        "        @return:\n",
        "            A 2D NumPy array representing the confusion matrix\n",
        "        \"\"\"\n",
        "        matrix = np.zeros((n_classes, n_classes), dtype=int)\n",
        "        for true_label, pred_label in zip(y_true, y_pred):\n",
        "            matrix[true_label, pred_label] += 1\n",
        "        return matrix\n"
      ],
      "metadata": {
        "id": "-Zwa8Gvob9fo"
      },
      "execution_count": null,
      "outputs": []
    },
    {
      "cell_type": "markdown",
      "source": [
        "# **TESTING**\n",
        "\n",
        "1: Performing the unit tests\n",
        "\n",
        "2: Showing our generation of random data example\n",
        "\n",
        "3: Generating predictions using Sklearn's Gaussian Naive Bayes and using those in the unit tests to check the outputs of the predict function"
      ],
      "metadata": {
        "id": "2Ro2lgSDPXR_"
      }
    },
    {
      "cell_type": "code",
      "source": [
        "#unit tests\n",
        "import numpy as np\n",
        "import pytest\n",
        "\n",
        "#random seed for reproducibility\n",
        "np.random.seed(42)\n",
        "\n",
        "#test models with 2 & 3 classes\n",
        "test_model1 = GNB(n_classes=2)\n",
        "test_model2 = GNB(n_classes=2)\n",
        "test_model3 = GNB(n_classes=3)\n",
        "\n",
        "#################################################\n",
        "\n",
        "#test data\n",
        "x1 = np.array([\n",
        "    [0.9971328, 0.48119606, 0.56676933],\n",
        "    [0.60457284, 0.70041144, 0.56881945],\n",
        "    [0.73799388, 0.67989118, 0.08028813],\n",
        "    [1, 0.46815514, 0.53079382],\n",
        "    [0.74529767, 0.89423103, 0]\n",
        "])\n",
        "y1 = np.array([1, 0, 0, 1, 0])\n",
        "\n",
        "x_test1 = np.array([\n",
        " [0.713, 0.883, 0.],\n",
        " [0.997, 0.503, 0.567],\n",
        " [0.575, 0.753, 0.212],\n",
        " [0.991, 0.5, 0.558]\n",
        "])\n",
        "\n",
        "################################################\n",
        "\n",
        "x2 = np.array([\n",
        "    [0.54967142, 0.48617357, 0.56476885],\n",
        "    [0.65230299, 0.47658466, 0.4765863],\n",
        "    [0.65792128, 0.57674347, 0.45305256],\n",
        "    [0.554256, 0.45365823, 0.45342702],\n",
        "    [0.52419623, 0.30867198, 0.32750822],\n",
        "    [0.44377125, 0.39871689, 0.53142473]\n",
        "])\n",
        "y2 = np.array([0, 1, 1, 1, 0, 1])\n",
        "\n",
        "x_test2 = np.array([\n",
        "    [0.40919759, 0.35876963, 0.64656488],\n",
        "    [0.47742237, 0.50675282, 0.35752518],\n",
        "    [0.44556173, 0.51109226, 0.38490064],\n",
        "    [0.5375698, 0.43993613, 0.47083063]\n",
        "])\n",
        "\n",
        "################################################\n",
        "\n",
        "x3 = np.array([\n",
        " [0.6096057,  0.32852071, 0.60974403, 1.        ],\n",
        " [0.5219016,  0.29975891, 0.75319877, 1.        ],\n",
        " [0.49366307, 0.53276801, 0.43863368, 0.22550052],\n",
        " [0.57903547, 0.,         0.24436265, 0.1395641 ],\n",
        " [0.42846027, 0.4642742,  0.37016429, 0.        ],\n",
        " [0.72587785, 0.30226711, 0.52039934, 0.        ],\n",
        " [0.48467407, 0.40327678, 0.33274699, 0.97437124],\n",
        " [0.47792336, 0.28249188, 0.41733718, 1.        ],\n",
        " [0.54838033, 0.05268672, 0.63667192, 0.        ],\n",
        " [0.57506363, 0.,         0.30545935, 0.8152065 ],\n",
        " [0.63861599, 0.42141048, 0.49219016, 0.37201771],\n",
        " [0.37257736, 0.15404674, 0.43906163, 1.        ]\n",
        "])\n",
        "y3 = np.array([0, 0, 1, 1, 1, 0, 2, 0, 0, 2, 1, 1])\n",
        "\n",
        "x_test3 = np.array([\n",
        "    [0.40919759, 0.35876963, 0.64656488, 0.],\n",
        "    [0.47742237, 0.50675282, 0.35752518, 0.942865],\n",
        "    [0.57556173, 0.0214, 0.30490064, 0.855162],\n",
        "    [0.5375698, 0.43993613, 0.47083063, 0.576499]\n",
        "])\n",
        "\n",
        "#################################################\n",
        "\n",
        "#tests models, mostly testing train\n",
        "def check_train_dtype(model, priors, means, stds, x_train, y_train):\n",
        "    assert isinstance(priors, np.ndarray)\n",
        "    assert priors.ndim == 1 and priors.shape == (model.n_classes,)\n",
        "    assert isinstance(means, np.ndarray)\n",
        "    assert means.ndim == 2 and means.shape == (model.n_classes, x_train.shape[1])\n",
        "    assert isinstance(stds, np.ndarray)\n",
        "    assert stds.ndim == 2 and stds.shape == (model.n_classes, x_train.shape[1])\n",
        "\n",
        "priors1, means1, stds1 = test_model1.train(x1, y1)\n",
        "check_train_dtype(test_model1, priors1, means1, stds1, x1, y1)\n",
        "assert(means1 == pytest.approx(np.array([[0.696, 0.758, 0.216], [0.999, 0.475, 0.549]]), 0.01))\n",
        "assert(priors1 == pytest.approx(np.array([0.6, 0.4]), 0.01))\n",
        "assert(stds1 == pytest.approx(np.array([[0.0646, 0.0965, 0.251], [0.00143, 0.00652, 0.0180]]), 0.01))\n",
        "\n",
        "priors2, means2, stds2 = test_model2.train(x2, y2)\n",
        "check_train_dtype(test_model2, priors2, means2, stds2, x2, y2)\n",
        "assert(means2 == pytest.approx(np.array([[0.537, 0.397, 0.446], [0.577, 0.476, 0.479]]), 0.01))\n",
        "assert(priors2 == pytest.approx(np.array([0.333, 0.666]), 0.01))\n",
        "assert(stds2 == pytest.approx(np.array([[0.0127, 0.0888, 0.1186], [0.0873, 0.0645, 0.0319]]), 0.01))\n",
        "\n",
        "priors3, means3, stds3 = test_model3.train(x3, y3)\n",
        "check_train_dtype(test_model3, priors3, means3, stds3, x3, y3)\n",
        "assert(means3 == pytest.approx(np.array([[0.577, 0.253, 0.587, 0.6],\n",
        "                                           [0.502, 0.314, 0.397, 0.347],\n",
        "                                           [0.530, 0.202, 0.319, 0.895]]), 0.01))\n",
        "assert(priors3 == pytest.approx(np.array([0.417, 0.417, 0.166]), 0.01))\n",
        "assert(stds3 == pytest.approx(np.array([[0.086, 0.101, 0.113, 0.490], [0.097, 0.203, 0.086, 0.348], [0.045, 0.202, 0.0136, 0.080]]), 0.01))\n",
        "\n",
        "#test predictions\n",
        "def check_test_dtype(pred, x_test):\n",
        "    assert isinstance(pred, np.ndarray)\n",
        "    assert pred.ndim == 1 and pred.shape == (x_test.shape[0],)\n",
        "\n",
        "pred1 = test_model1.predict(x_test1)\n",
        "check_test_dtype(pred1, x_test1)\n",
        "assert(pred1 == np.array([0, 1, 0, 1])).all()\n",
        "\n",
        "pred2 = test_model2.predict(x_test2)\n",
        "check_test_dtype(pred2, x_test2)\n",
        "assert(pred2 == np.array([1, 1, 1, 1])).all()\n",
        "\n",
        "pred3 = test_model3.predict(x_test3)\n",
        "check_test_dtype(pred3, x_test3)\n",
        "assert(pred3 == np.array([0, 1, 2, 1])).all()"
      ],
      "metadata": {
        "id": "HbZXHjRiluPf"
      },
      "execution_count": null,
      "outputs": []
    },
    {
      "cell_type": "code",
      "source": [
        "#HOW RANDOM DATA WAS GENERATED EXAMPLE X3\n",
        "np.random.seed(42)\n",
        "\n",
        "#means and standard deviations for each feature (column)\n",
        "means_x3 = [0.55, 0.37, 0.51, 0.64] #set means for attributes roughly in the middle of binary range\n",
        "stds_x3 = [0.12, 0.3, 0.154, 0.89]  #set standard deviations to allow moderate variance\n",
        "\n",
        "#samples\n",
        "n_samples_x3 = 12\n",
        "\n",
        "#continuous data for x3\n",
        "x3_continuous = np.clip(np.random.normal(loc=means_x3, scale=stds_x3, size=(n_samples_x3, len(means_x3))), 0, 1)\n",
        "\n",
        "\n",
        "#checking standard deviations\n",
        "for i in range(4):\n",
        "  print(np.std(x3[np.where(y3==0)[0],i]))\n",
        "\n",
        "for i in range(4):\n",
        "  print(np.std(x3[np.where(y3==1)[0],i]))\n",
        "\n",
        "for i in range(4):\n",
        "  print(np.std(x3[np.where(y3==2)[0],i]))\n"
      ],
      "metadata": {
        "colab": {
          "base_uri": "https://localhost:8080/"
        },
        "id": "tKtkaakPmefo",
        "outputId": "0b2c3b19-6926-4f19-f746-938015a0586b"
      },
      "execution_count": null,
      "outputs": [
        {
          "output_type": "stream",
          "name": "stdout",
          "text": [
            "0.08590518244222743\n",
            "0.1013036004696924\n",
            "0.11298374787864023\n",
            "0.48989794855663565\n",
            "0.09677303536144279\n",
            "0.20305594527291887\n",
            "0.08553590764497666\n",
            "0.3479180348424263\n",
            "0.04519478000000002\n",
            "0.20163839\n",
            "0.013643820000000001\n",
            "0.07958237000000001\n"
          ]
        }
      ]
    },
    {
      "cell_type": "code",
      "source": [
        "#sklearn model for checking tests and predictions later\n",
        "from sklearn.naive_bayes import GaussianNB\n",
        "\n",
        "#model for x1\n",
        "gb = GaussianNB()\n",
        "\n",
        "print(\"Sklearn predictions for x_test1\")\n",
        "gb.fit(x1, y1)\n",
        "print(gb.predict(x_test1))\n",
        "\n",
        "print(\"----------\")\n",
        "\n",
        "print(\"Sklearn predictions for x_test2\")\n",
        "gb = GaussianNB()\n",
        "gb.fit(x2, y2)\n",
        "print(gb.predict(x_test2))\n",
        "\n",
        "print(\"----------\")\n",
        "\n",
        "print(\"Sklearn predictions for x_test3\")\n",
        "gb = GaussianNB()\n",
        "gb.fit(x3, y3)\n",
        "print(gb.predict(x_test3))"
      ],
      "metadata": {
        "colab": {
          "base_uri": "https://localhost:8080/"
        },
        "id": "q3wNCnjbFLjS",
        "outputId": "6a5c822b-df30-4e88-f749-177d7369d6ce"
      },
      "execution_count": null,
      "outputs": [
        {
          "output_type": "stream",
          "name": "stdout",
          "text": [
            "Sklearn predictions for x_test1\n",
            "[0 1 0 1]\n",
            "----------\n",
            "Sklearn predictions for x_test2\n",
            "[1 1 1 1]\n",
            "----------\n",
            "Sklearn predictions for x_test3\n",
            "[0 1 2 1]\n"
          ]
        }
      ]
    },
    {
      "cell_type": "markdown",
      "source": [
        "# **WRITEUP**"
      ],
      "metadata": {
        "id": "Xylwoc3OP6H2"
      }
    },
    {
      "cell_type": "markdown",
      "source": [
        "*Description of previous work: the Iris Dataset*\n",
        "\n",
        "We used the multivariate Iris dataset, which provides a straightforward but powerful basis for classification problems (GeeksforGeeks, 2023b). The dataset consists of 150 observations from three distinct species of iris flowers (Setosa, Versicolor, and Virginica), and it includes measurements of four key features: sepal length, sepal width, petal length, and petal width (GeeksforGeeks, 2023b). Each sample is accompanied by a label that indicates its species. The Iris dataset is particularly valuable for machine learning problems not only due to its balanced class distribution (there are 50 samples from each species), but also due to its accessibility in Python's `scikit-learn` library (GeeksforGeeks, 2023b).\n",
        "\n",
        "Our work on reproducing a classification task using the Iris dataset revolves around implementing the Gaussian Naive Bayes (GNB) algorithm. The dataset is well-suited for our project, since the GNB algorithm assumes feature independence and continuous data, which aligns with the numeric and relatively uncorrelated nature of the Iris features. The simplicity of the dataset also facilitates clear benchmarking of our implementation against established results.\n",
        "\n",
        "Using the Gaussian Naive Bayes model, we trained our algorithm on the full Iris dataset and evaluated its performance by predicting the species of each sample. This approach leverages Bayes' theorem to calculate the likelihood of each class given the feature values, ultimately assigning a label to each observation based on the highest posterior probability. Our implementation achieves precision, recall, and F1-scores comparable to the benchmark output, which demonstrates the accuracy and robustness of our code. Our implementation and its results are found in the code box below.\n"
      ],
      "metadata": {
        "id": "JV6F6n4OT5h8"
      }
    },
    {
      "cell_type": "code",
      "source": [
        "#reproduce work\n",
        "from sklearn import datasets\n",
        "\n",
        "# load the iris datasets\n",
        "dataset = datasets.load_iris()\n",
        "\n",
        "# fit a Naive Bayes model to the data\n",
        "model = GNB(3)\n",
        "model.train(dataset.data, dataset.target)\n",
        "\n",
        "# make predictions\n",
        "expected = dataset.target\n",
        "predicted = model.predict(dataset.data)\n",
        "\n",
        "# summarize the fit of the model\n",
        "print(model.class_report(dataset.data, dataset.target))\n",
        "print(model.confusion_matrix(expected, predicted,3))\n"
      ],
      "metadata": {
        "id": "oUteuGJElvgO",
        "colab": {
          "base_uri": "https://localhost:8080/"
        },
        "outputId": "7da16596-c36b-47ef-b7ed-6e29742476bd"
      },
      "execution_count": null,
      "outputs": [
        {
          "output_type": "stream",
          "name": "stdout",
          "text": [
            "{0: {'precision': 1.0, 'recall': 1.0, 'f1-score': 1.0, 'support': 50}, 1: {'precision': 0.94, 'recall': 0.94, 'f1-score': 0.94, 'support': 50}, 2: {'precision': 0.94, 'recall': 0.94, 'f1-score': 0.94, 'support': 50}, 'avg / total': {'precision': 0.96, 'recall': 0.96, 'f1-score': 0.96, 'support': 150}}\n",
            "[[50  0  0]\n",
            " [ 0 47  3]\n",
            " [ 0  3 47]]\n"
          ]
        }
      ]
    },
    {
      "cell_type": "markdown",
      "source": [
        "**Reproduction True Example**  \n",
        "![image.png](data:image/png;base64,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)\n",
        "\n",
        "\n",
        "Our Gaussian Naive Bayes implementation is based on the work described in Klein (2021, pp. 316–321), specifically the method outlined on p. 317."
      ],
      "metadata": {
        "id": "UJmRrNBkLLlU"
      }
    },
    {
      "cell_type": "markdown",
      "source": [
        "We can compare the output of our implementation to the true example of the representation. As we can see, our reproduced results align perfectly with the benchmark true example above, which confirms the correctness of our implementation. The precision, recall, and F1-scores for each class are consistent. Similarly, the confusion matrix is consistent; this demonstrates the algorithm's effectiveness in distinguishing the three species. Our work achieves 96% accuracy, which validates the Gaussian Naive Bayes model's suitability for this dataset and highlights its computational efficiency in handling continuous features."
      ],
      "metadata": {
        "id": "M3aXCWEdU97K"
      }
    },
    {
      "cell_type": "markdown",
      "source": [
        "**References**\n",
        "\n",
        "*   GeeksforGeeks, 2023a. Gaussian Naive Bayes. [online] Available at: https://www.geeksforgeeks.org/gaussian-naive-bayes/ [Accessed 4 Dec. 2024].\n",
        "*   GeeksforGeeks, 2023b. Iris Dataset. [online] Available at: https://www.geeksforgeeks.org/iris-dataset/ [Accessed 4 Dec. 2024].\n",
        "*   Kashishdafe, 2024. Gaussian Naive Bayes: Understanding the Basics and Applications. [online] Medium. Available at: https://medium.com/@kashishdafe0410/gaussian-naive-bayes-understanding-the-basics-and-applications-52098087b963 [Accessed 4 Dec. 2024].\n",
        "*   Klein, B., 2021. Machine Learning with Python Tutorial. [PDF] Python-Course.eu. Available at: https://python-course.eu/books/bernd_klein_python_and_machine_learning_a4.pdf [Accessed 9 Dec. 2024].\n",
        "*   Martins, C., 2023. Gaussian Naive Bayes Explained With Scikit-Learn. [online] Built In. Available at: https://builtin.com/artificial-intelligence/gaussian-naive-bayes [Accessed 4 Dec. 2024].\n"
      ],
      "metadata": {
        "id": "e0tbwRRAt3-8"
      }
    }
  ]
}